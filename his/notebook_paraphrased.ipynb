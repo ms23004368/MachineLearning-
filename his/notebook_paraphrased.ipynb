{
 "cells": [
  {
   "cell_type": "code",
   "execution_count": null,
   "metadata": {
    "_cell_guid": "b1076dfc-b9ad-4769-8c92-a6c4dae69d19",
    "_uuid": "8f2839f25d086af736a60e9eeb907d3b93b6e0e5",
    "execution": {
     "iopub.execute_input": "2023-06-18T06:26:27.691075Z",
     "iopub.status.busy": "2023-06-18T06:26:27.690458Z",
     "iopub.status.idle": "2023-06-18T06:26:27.710991Z",
     "shell.execute_reply": "2023-06-18T06:26:27.709939Z",
     "shell.execute_reply.started": "2023-06-18T06:26:27.691035Z"
    }
   },
   "outputs": [],
   "source": [
    "# This Python 3 environment comes with many helpful analytics libraries installed\n",
    "# It is defined by the kaggle/python Docker image: https://github.com/kaggle/docker-python\n",
    "# For example, here's several helpful packages to load\n",
    "\n",
    "import numpy as np # linear algebra\n",
    "import pandas as pd # data processing, CSV file I/O (e.g. pd.read_csv)\n",
    "\n",
    "# Input data files are available in the read-only \"../input/\" directory\n",
    "# For example, running this (by clicking run or pressing Shift+Enter) will list all files under the input directory\n",
    "\n",
    "import os\n",
    "for dirname, _, filenames in os.walk('/kaggle/input'):\n",
    "    for filename in filenames:\n",
    "        print(os.path.join(dirname, filename))\n",
    "\n",
    "# You can write up to 20GB to the current directory (/kaggle/working/) that gets preserved as output when you create a version using \"Save & Run All\" \n",
    "# You can also write temporary files to /kaggle/temp/, but they won't be saved outside of the current session"
   ]
  },
  {
   "cell_type": "markdown",
   "metadata": {
    "_cell_guid": "79c7e3d0-c299-4dcb-8224-4455121ee9b0",
    "_uuid": "d629ff2d2480ee46fbb7e2d37f6b5fab8052498a"
   },
   "source": [
    "# Welcome to my machine learning project!\n",
    "\n",
    "In this notebook, I take you through the entire development process of a machine learning and data science project, starting from data exploration to model evaluation. Initially, this notebook was created as part of an interview process, and I've adapted it here for a broader audience. I hope you find it insightful and useful. If you appreciate the work, feel free to leave feedback or an upvote. Thank you!"
   ]
  },
  {
   "cell_type": "markdown",
   "metadata": {},
   "source": [
    "The project started by deciding which problem we were going to solve. You could choose between making a clustering model in order to profile the students or make a forecasting model to predict whether a student would pass or fail their modules.\n",
    "\n",
    "I chose the prediction modeling problem and the data given was the same as given here. You can also go to https://analyse.kmi.open.ac.uk/open_dataset to find a more complete description of the data used here."
   ]
  },
  {
   "attachments": {},
   "cell_type": "markdown",
   "metadata": {},
   "source": [
    "# Model Evaluation: Choosing the Best Approach\n",
    "\n",
    "To assess the performance of our models, we'll fit them using different feature sets: one with both `weighted_grade` and `pass_rate`, and then two versions where we remove one of the features in each dataset. This will help us understand the impact of these features."
   ]
  },
  {
   "cell_type": "code",
   "execution_count": null,
   "metadata": {
    "execution": {
     "iopub.execute_input": "2023-06-18T06:27:21.473894Z",
     "iopub.status.busy": "2023-06-18T06:27:21.473464Z",
     "iopub.status.idle": "2023-06-18T06:27:33.576646Z",
     "shell.execute_reply": "2023-06-18T06:27:33.575486Z",
     "shell.execute_reply.started": "2023-06-18T06:27:21.473846Z"
    }
   },
   "outputs": [],
   "source": [
    "studInfo=pd.read_csv(\"/kaggle/input/open-university-learning-analytics-dataset/anonymiseddata/studentInfo.csv\")\n",
    "assessments=pd.read_csv(\"/kaggle/input/open-university-learning-analytics-dataset/anonymiseddata/assessments.csv\")\n",
    "studAss=pd.read_csv(\"/kaggle/input/open-university-learning-analytics-dataset/anonymiseddata/studentAssessment.csv\")\n",
    "studVle=pd.read_csv(\"/kaggle/input/open-university-learning-analytics-dataset/anonymiseddata/studentVle.csv\")\n",
    "vle=pd.read_csv(\"/kaggle/input/open-university-learning-analytics-dataset/anonymiseddata/vle.csv\")"
   ]
  },
  {
   "cell_type": "code",
   "execution_count": null,
   "metadata": {
    "execution": {
     "iopub.execute_input": "2023-06-18T06:27:37.991343Z",
     "iopub.status.busy": "2023-06-18T06:27:37.990961Z",
     "iopub.status.idle": "2023-06-18T06:27:38.020942Z",
     "shell.execute_reply": "2023-06-18T06:27:38.019507Z",
     "shell.execute_reply.started": "2023-06-18T06:27:37.99131Z"
    }
   },
   "outputs": [],
   "source": [
    "# Model 1: Logistic Regression\n",
    "Logistic Regression is a linear model used for binary classification tasks. It will serve as our first baseline for predicting student performance."
   ]
  },
  {
   "cell_type": "markdown",
   "metadata": {},
   "source": [
    "# Part 1: Feature Engineering\n",
    "\n",
    "Here we will discuss how we used the given data in order to create features that made sense in order to build the model"
   ]
  },
  {
   "cell_type": "markdown",
   "metadata": {},
   "source": [
    "# Model 2: Linear Discriminant Analysis (LDA)\n",
    "LDA is another linear classification technique that works by finding a linear combination of features that best separates the classes."
   ]
  },
  {
   "cell_type": "code",
   "execution_count": null,
   "metadata": {
    "execution": {
     "iopub.execute_input": "2023-06-18T06:27:42.73891Z",
     "iopub.status.busy": "2023-06-18T06:27:42.738469Z",
     "iopub.status.idle": "2023-06-18T06:27:42.766643Z",
     "shell.execute_reply": "2023-06-18T06:27:42.765637Z",
     "shell.execute_reply.started": "2023-06-18T06:27:42.738849Z"
    }
   },
   "outputs": [],
   "source": [
    "exams=assessments[assessments[\"assessment_type\"]==\"Exam\"]\n",
    "others=assessments[assessments[\"assessment_type\"]!=\"Exam\"]\n",
    "amounts=others.groupby([\"code_module\",\"code_presentation\"]).count()[\"id_assessment\"] \n",
    "amounts=amounts.reset_index()\n",
    "amounts.head()\n",
    "#Here we have the total amount of assessments by module"
   ]
  },
  {
   "cell_type": "code",
   "execution_count": null,
   "metadata": {
    "execution": {
     "iopub.execute_input": "2023-06-18T06:27:46.558462Z",
     "iopub.status.busy": "2023-06-18T06:27:46.558074Z",
     "iopub.status.idle": "2023-06-18T06:27:46.703081Z",
     "shell.execute_reply": "2023-06-18T06:27:46.701717Z",
     "shell.execute_reply.started": "2023-06-18T06:27:46.558429Z"
    }
   },
   "outputs": [],
   "source": [
    "# Model 3: Random Forest\n",
    "Random Forest is an ensemble learning method that combines multiple decision trees. It's useful for both classification and regression tasks, and it tends to improve model accuracy by reducing overfitting."
   ]
  },
  {
   "cell_type": "code",
   "execution_count": null,
   "metadata": {
    "execution": {
     "iopub.execute_input": "2023-06-18T06:27:55.924305Z",
     "iopub.status.busy": "2023-06-18T06:27:55.923925Z",
     "iopub.status.idle": "2023-06-18T06:27:55.955224Z",
     "shell.execute_reply": "2023-06-18T06:27:55.953999Z",
     "shell.execute_reply.started": "2023-06-18T06:27:55.924272Z"
    }
   },
   "outputs": [],
   "source": [
    "stud_ass"
   ]
  },
  {
   "cell_type": "code",
   "execution_count": null,
   "metadata": {
    "execution": {
     "iopub.execute_input": "2023-06-18T06:28:02.6749Z",
     "iopub.status.busy": "2023-06-18T06:28:02.674457Z",
     "iopub.status.idle": "2023-06-18T06:28:02.788003Z",
     "shell.execute_reply": "2023-06-18T06:28:02.787051Z",
     "shell.execute_reply.started": "2023-06-18T06:28:02.674847Z"
    }
   },
   "outputs": [],
   "source": [
    "# Model 4: Neural Network Classifier\n",
    "The Neural Network model mimics the human brain by using layers of interconnected neurons. It is well-suited for capturing complex relationships in data, although it can be prone to overfitting with small datasets."
   ]
  },
  {
   "cell_type": "code",
   "execution_count": null,
   "metadata": {
    "execution": {
     "iopub.execute_input": "2023-06-18T06:28:09.649814Z",
     "iopub.status.busy": "2023-06-18T06:28:09.649427Z",
     "iopub.status.idle": "2023-06-18T06:28:09.794662Z",
     "shell.execute_reply": "2023-06-18T06:28:09.793619Z",
     "shell.execute_reply.started": "2023-06-18T06:28:09.64978Z"
    }
   },
   "outputs": [],
   "source": [
    "#Pass rate per student per module\n",
    "pass_rate=pd.merge((stud_ass[stud_ass[\"pass\"]==True].groupby([\"id_student\",\"code_module\",\"code_presentation\"]).count()[\"pass\"]).reset_index(),amounts,how=\"left\",on=[\"code_module\",\"code_presentation\"])\n",
    "pass_rate[\"pass_rate\"]=pass_rate[\"pass\"]/pass_rate[\"id_assessment\"]\n",
    "pass_rate.drop([\"pass\",\"id_assessment\"], axis=1,inplace=True)\n",
    "pass_rate.head()"
   ]
  },
  {
   "cell_type": "code",
   "execution_count": null,
   "metadata": {
    "execution": {
     "iopub.execute_input": "2023-06-18T06:29:08.042232Z",
     "iopub.status.busy": "2023-06-18T06:29:08.041825Z",
     "iopub.status.idle": "2023-06-18T06:29:08.068876Z",
     "shell.execute_reply": "2023-06-18T06:29:08.067883Z",
     "shell.execute_reply.started": "2023-06-18T06:29:08.042195Z"
    }
   },
   "outputs": [],
   "source": [
    "# Final Reflections on Model Performance\n",
    "\n",
    "* The models that included both `weighted_grade` and `pass_rate` generally outperformed the versions with either feature removed, indicating that both features are valuable predictors.\n",
    "\n",
    "* Neural networks struggled to predict student failures accurately but demonstrated strong overall performance, likely benefiting from class imbalance.\n",
    "\n",
    "* Other models like Logistic Regression and Random Forest can be useful in scenarios such as identifying top-performing students for awards or scholarships.\n",
    "\n",
    "* There are many additional features that could be engineered to further enhance these models. Feel free to explore the dataset further and experiment with other features!"
   ]
  },
  {
   "cell_type": "markdown",
   "metadata": {},
   "source": [
    "# VLE\n",
    "\n",
    "The datasets referring to the VLE (Virtual Learning Environment) contain the interaction feed of the students with the content available for reference throughout the duration of the period. From this data we can infer how in touch a student was with their subjects, whether they studied it on a solid basis and how they used the content."
   ]
  },
  {
   "cell_type": "code",
   "execution_count": null,
   "metadata": {
    "execution": {
     "iopub.execute_input": "2023-06-18T06:28:23.144245Z",
     "iopub.status.busy": "2023-06-18T06:28:23.143852Z",
     "iopub.status.idle": "2023-06-18T06:28:23.163283Z",
     "shell.execute_reply": "2023-06-18T06:28:23.162133Z",
     "shell.execute_reply.started": "2023-06-18T06:28:23.144211Z"
    }
   },
   "outputs": [],
   "source": [
    "vle"
   ]
  },
  {
   "cell_type": "code",
   "execution_count": null,
   "metadata": {
    "execution": {
     "iopub.execute_input": "2023-06-18T06:28:26.106853Z",
     "iopub.status.busy": "2023-06-18T06:28:26.106446Z",
     "iopub.status.idle": "2023-06-18T06:28:26.127824Z",
     "shell.execute_reply": "2023-06-18T06:28:26.126621Z",
     "shell.execute_reply.started": "2023-06-18T06:28:26.106813Z"
    }
   },
   "outputs": [],
   "source": [
    "vle[~vle[\"week_from\"].isna()]\n",
    "#Only 1121 from the 6364 entries have the reference week for the materials (the week in which they would be used in course.)\n",
    "#With this in mind, the construction of a metric to track study commitment becomes impractical"
   ]
  },
  {
   "cell_type": "code",
   "execution_count": null,
   "metadata": {
    "execution": {
     "iopub.execute_input": "2023-06-18T06:28:29.531391Z",
     "iopub.status.busy": "2023-06-18T06:28:29.531015Z",
     "iopub.status.idle": "2023-06-18T06:28:29.544507Z",
     "shell.execute_reply": "2023-06-18T06:28:29.543319Z",
     "shell.execute_reply.started": "2023-06-18T06:28:29.531358Z"
    }
   },
   "outputs": [],
   "source": [
    "studVle.head()"
   ]
  },
  {
   "cell_type": "code",
   "execution_count": null,
   "metadata": {
    "execution": {
     "iopub.execute_input": "2023-06-18T06:28:34.041344Z",
     "iopub.status.busy": "2023-06-18T06:28:34.040955Z",
     "iopub.status.idle": "2023-06-18T06:28:38.785637Z",
     "shell.execute_reply": "2023-06-18T06:28:38.784526Z",
     "shell.execute_reply.started": "2023-06-18T06:28:34.041311Z"
    }
   },
   "outputs": [],
   "source": [
    "#Here we can track the average time after the start of the course the student took to use the materials\n",
    "#and the average amount of clicks per material\n",
    "avg_per_site=studVle.groupby([\"id_student\",\"id_site\",\"code_module\",\"code_presentation\"]).mean().reset_index()\n",
    "avg_per_site.head()"
   ]
  },
  {
   "cell_type": "code",
   "execution_count": null,
   "metadata": {
    "execution": {
     "iopub.execute_input": "2023-06-18T06:28:43.504784Z",
     "iopub.status.busy": "2023-06-18T06:28:43.504406Z",
     "iopub.status.idle": "2023-06-18T06:28:44.22361Z",
     "shell.execute_reply": "2023-06-18T06:28:44.222553Z",
     "shell.execute_reply.started": "2023-06-18T06:28:43.504753Z"
    }
   },
   "outputs": [],
   "source": [
    "#General average per student per module\n",
    "avg_per_student=avg_per_site.groupby([\"id_student\",\"code_module\",\"code_presentation\"]).mean()[[\"date\",\"sum_click\"]].reset_index()\n",
    "avg_per_student.head()"
   ]
  },
  {
   "cell_type": "markdown",
   "metadata": {},
   "source": [
    "# StudentInfo\n",
    "\n",
    "The studentInfo table contains various info about the students, but the relevant ones for this analysis are:\n",
    "\n",
    "* The amount of times the student has already tried to finish the module\n",
    "* The students' final result\n",
    "\n",
    "The last one is our interest variable as we build our prediction model"
   ]
  },
  {
   "cell_type": "code",
   "execution_count": null,
   "metadata": {
    "execution": {
     "iopub.execute_input": "2023-06-18T06:28:52.223784Z",
     "iopub.status.busy": "2023-06-18T06:28:52.223396Z",
     "iopub.status.idle": "2023-06-18T06:28:52.253117Z",
     "shell.execute_reply": "2023-06-18T06:28:52.252111Z",
     "shell.execute_reply.started": "2023-06-18T06:28:52.223748Z"
    }
   },
   "outputs": [],
   "source": [
    "#Removing the cases where the student has withdrawn their registration to the module\n",
    "studInfo=studInfo[studInfo[\"final_result\"]!=\"Withdrawn\"]\n",
    "studInfo=studInfo[[\"code_module\",\"code_presentation\",\"id_student\",\"num_of_prev_attempts\",\"final_result\"]]\n",
    "studInfo.head()"
   ]
  },
  {
   "cell_type": "markdown",
   "metadata": {},
   "source": [
    "# Compiling all relevant tables"
   ]
  },
  {
   "cell_type": "code",
   "execution_count": null,
   "metadata": {
    "execution": {
     "iopub.execute_input": "2023-06-18T06:29:13.844858Z",
     "iopub.status.busy": "2023-06-18T06:29:13.844473Z",
     "iopub.status.idle": "2023-06-18T06:29:13.898229Z",
     "shell.execute_reply": "2023-06-18T06:29:13.897344Z",
     "shell.execute_reply.started": "2023-06-18T06:29:13.844814Z"
    }
   },
   "outputs": [],
   "source": [
    "df_1=pd.merge(avg_grade,pass_rate,how=\"inner\",on=[\"id_student\",\"code_module\",\"code_presentation\"])\n",
    "assessment_info=pd.merge(df_1, stud_exams, how=\"inner\", on=[\"id_student\",\"code_module\",\"code_presentation\"])\n",
    "assessment_info.head()"
   ]
  },
  {
   "cell_type": "code",
   "execution_count": null,
   "metadata": {
    "execution": {
     "iopub.execute_input": "2023-06-18T06:29:19.232296Z",
     "iopub.status.busy": "2023-06-18T06:29:19.231854Z",
     "iopub.status.idle": "2023-06-18T06:29:19.286022Z",
     "shell.execute_reply": "2023-06-18T06:29:19.285275Z",
     "shell.execute_reply.started": "2023-06-18T06:29:19.232247Z"
    }
   },
   "outputs": [],
   "source": [
    "df_2=pd.merge(studInfo,assessment_info,how=\"inner\",on=[\"id_student\",\"code_module\",\"code_presentation\"])\n",
    "final_df=pd.merge(df_2,avg_per_student,how=\"inner\", on=[\"id_student\",\"code_module\",\"code_presentation\"])\n",
    "final_df.drop([\"id_student\",\"code_module\",\"code_presentation\"],axis=1,inplace=True)\n",
    "final_df.head()\n",
    "#The final dataframe only has information relevant to the problem"
   ]
  },
  {
   "cell_type": "markdown",
   "metadata": {},
   "source": [
    "# Part 2: EDA\n",
    "\n",
    "We start the exploratory data analysis by checking the dataframe integrity"
   ]
  },
  {
   "cell_type": "code",
   "execution_count": null,
   "metadata": {
    "execution": {
     "iopub.execute_input": "2023-06-18T06:29:28.754471Z",
     "iopub.status.busy": "2023-06-18T06:29:28.753827Z",
     "iopub.status.idle": "2023-06-18T06:29:28.792186Z",
     "shell.execute_reply": "2023-06-18T06:29:28.791202Z",
     "shell.execute_reply.started": "2023-06-18T06:29:28.754407Z"
    }
   },
   "outputs": [],
   "source": [
    "final_df.describe()"
   ]
  },
  {
   "cell_type": "code",
   "execution_count": null,
   "metadata": {
    "execution": {
     "iopub.execute_input": "2023-06-18T06:29:31.392517Z",
     "iopub.status.busy": "2023-06-18T06:29:31.3921Z",
     "iopub.status.idle": "2023-06-18T06:29:31.407113Z",
     "shell.execute_reply": "2023-06-18T06:29:31.405744Z",
     "shell.execute_reply.started": "2023-06-18T06:29:31.39247Z"
    }
   },
   "outputs": [],
   "source": [
    "final_df.info()"
   ]
  },
  {
   "cell_type": "markdown",
   "metadata": {},
   "source": [
    "# The fact that the goal feature is categorical makes it not possible for us to include it in a correlation matrix, but we can see a tendency of correlation between the grading features (*weighted_grade, pass_rate* and *exam_score*)"
   ]
  },
  {
   "cell_type": "code",
   "execution_count": null,
   "metadata": {
    "execution": {
     "iopub.execute_input": "2023-06-18T06:29:35.240511Z",
     "iopub.status.busy": "2023-06-18T06:29:35.240124Z",
     "iopub.status.idle": "2023-06-18T06:29:36.594293Z",
     "shell.execute_reply": "2023-06-18T06:29:36.593004Z",
     "shell.execute_reply.started": "2023-06-18T06:29:35.240479Z"
    }
   },
   "outputs": [],
   "source": [
    "import matplotlib.pyplot as plt\n",
    "import seaborn as sns\n",
    "plt.figure(figsize=(8,6))\n",
    "sns.heatmap(final_df.corr(),annot=True)"
   ]
  },
  {
   "cell_type": "code",
   "execution_count": null,
   "metadata": {
    "execution": {
     "iopub.execute_input": "2023-06-18T06:29:40.299674Z",
     "iopub.status.busy": "2023-06-18T06:29:40.29929Z",
     "iopub.status.idle": "2023-06-18T06:29:40.445965Z",
     "shell.execute_reply": "2023-06-18T06:29:40.445157Z",
     "shell.execute_reply.started": "2023-06-18T06:29:40.299643Z"
    }
   },
   "outputs": [],
   "source": [
    "plt.figure(figsize=(8,6))\n",
    "sns.countplot(data=final_df, x=\"final_result\")"
   ]
  },
  {
   "cell_type": "markdown",
   "metadata": {},
   "source": [
    "# With a \"Pass\" count much higher than the other labels, we must pay attention to the performance metrics fot the models and analyse the least represented cases more closely"
   ]
  },
  {
   "cell_type": "code",
   "execution_count": null,
   "metadata": {
    "execution": {
     "iopub.execute_input": "2023-06-18T06:29:43.585357Z",
     "iopub.status.busy": "2023-06-18T06:29:43.584628Z",
     "iopub.status.idle": "2023-06-18T06:29:54.601194Z",
     "shell.execute_reply": "2023-06-18T06:29:54.599741Z",
     "shell.execute_reply.started": "2023-06-18T06:29:43.585315Z"
    }
   },
   "outputs": [],
   "source": [
    "sns.pairplot(final_df)"
   ]
  },
  {
   "cell_type": "markdown",
   "metadata": {},
   "source": [
    "# On the pairplot we can detect two outliers: One with an average click number way above average and another one with a sole occurrence of an amount of previous attempts. In order to keep our data as consistent as possible, these cases will be removed"
   ]
  },
  {
   "cell_type": "code",
   "execution_count": null,
   "metadata": {
    "execution": {
     "iopub.execute_input": "2023-06-18T06:30:00.987609Z",
     "iopub.status.busy": "2023-06-18T06:30:00.986918Z",
     "iopub.status.idle": "2023-06-18T06:30:01.00478Z",
     "shell.execute_reply": "2023-06-18T06:30:01.00355Z",
     "shell.execute_reply.started": "2023-06-18T06:30:00.987553Z"
    }
   },
   "outputs": [],
   "source": [
    "final_df[final_df[\"sum_click\"]>10]"
   ]
  },
  {
   "cell_type": "code",
   "execution_count": null,
   "metadata": {
    "execution": {
     "iopub.execute_input": "2023-06-18T06:30:04.155024Z",
     "iopub.status.busy": "2023-06-18T06:30:04.154626Z",
     "iopub.status.idle": "2023-06-18T06:30:04.169852Z",
     "shell.execute_reply": "2023-06-18T06:30:04.168813Z",
     "shell.execute_reply.started": "2023-06-18T06:30:04.15499Z"
    }
   },
   "outputs": [],
   "source": [
    "final_df[final_df[\"num_of_prev_attempts\"]>4]"
   ]
  },
  {
   "cell_type": "code",
   "execution_count": null,
   "metadata": {
    "execution": {
     "iopub.execute_input": "2023-06-18T06:30:06.549508Z",
     "iopub.status.busy": "2023-06-18T06:30:06.549103Z",
     "iopub.status.idle": "2023-06-18T06:30:06.568924Z",
     "shell.execute_reply": "2023-06-18T06:30:06.567789Z",
     "shell.execute_reply.started": "2023-06-18T06:30:06.549474Z"
    }
   },
   "outputs": [],
   "source": [
    "final_df=final_df[final_df[\"sum_click\"]<=10]\n",
    "final_df=final_df[final_df[\"num_of_prev_attempts\"]<=4]\n",
    "final_df.head()"
   ]
  },
  {
   "cell_type": "markdown",
   "metadata": {},
   "source": [
    "# Part 3: Modeling\n",
    "\n",
    "For the modeling step we will use the following techniques and models:\n",
    "\n",
    "* Cross validation paired with classification reports and confusion matrices to evaluate model performance\n",
    "* Logistic Regression\n",
    "* Linear Discriminant Analysis\n",
    "* Random Forest\n",
    "* Neural Network Classifier"
   ]
  },
  {
   "cell_type": "code",
   "execution_count": null,
   "metadata": {
    "execution": {
     "iopub.execute_input": "2023-06-18T06:30:10.148851Z",
     "iopub.status.busy": "2023-06-18T06:30:10.148457Z",
     "iopub.status.idle": "2023-06-18T06:30:16.457028Z",
     "shell.execute_reply": "2023-06-18T06:30:16.456067Z",
     "shell.execute_reply.started": "2023-06-18T06:30:10.148818Z"
    }
   },
   "outputs": [],
   "source": [
    "from sklearn.linear_model import LogisticRegression\n",
    "from sklearn.ensemble import RandomForestClassifier\n",
    "from sklearn.discriminant_analysis import LinearDiscriminantAnalysis\n",
    "from sklearn.metrics import classification_report, confusion_matrix\n",
    "from sklearn.model_selection import train_test_split\n",
    "from tensorflow.keras.models import Sequential\n",
    "from tensorflow.keras.layers import Dense, Dropout\n",
    "from sklearn.preprocessing import MinMaxScaler\n",
    "from tensorflow.keras.callbacks import EarlyStopping"
   ]
  },
  {
   "cell_type": "code",
   "execution_count": null,
   "metadata": {
    "execution": {
     "iopub.execute_input": "2023-06-18T06:30:23.54516Z",
     "iopub.status.busy": "2023-06-18T06:30:23.544745Z",
     "iopub.status.idle": "2023-06-18T06:30:23.555066Z",
     "shell.execute_reply": "2023-06-18T06:30:23.553685Z",
     "shell.execute_reply.started": "2023-06-18T06:30:23.545125Z"
    }
   },
   "outputs": [],
   "source": [
    "X=final_df.drop(\"final_result\", axis=1)\n",
    "y=final_df[\"final_result\"]\n",
    "X_train, X_test, y_train, y_test = train_test_split(X, y, test_size=0.3)"
   ]
  },
  {
   "cell_type": "markdown",
   "metadata": {},
   "source": [
    "# Given the high correlation between *weighted_grade* and *pass_rate* the models will be fit to 3 types of inputs: One with both features and one with each one of them removed from the dataset"
   ]
  },
  {
   "cell_type": "code",
   "execution_count": null,
   "metadata": {
    "execution": {
     "iopub.execute_input": "2023-06-18T06:30:27.361131Z",
     "iopub.status.busy": "2023-06-18T06:30:27.360664Z",
     "iopub.status.idle": "2023-06-18T06:30:27.373231Z",
     "shell.execute_reply": "2023-06-18T06:30:27.371736Z",
     "shell.execute_reply.started": "2023-06-18T06:30:27.361088Z"
    }
   },
   "outputs": [],
   "source": [
    "#1 contains both, 2 just pass_rate e 3 just weighted_grade\n",
    "X1_test=X_test\n",
    "X1_train=X_train\n",
    "X2_test=X_test.drop(\"weighted_grade\",axis=1)\n",
    "X2_train=X_train.drop(\"weighted_grade\",axis=1)\n",
    "X3_test=X_test.drop(\"pass_rate\",axis=1)\n",
    "X3_train=X_train.drop(\"pass_rate\",axis=1)"
   ]
  },
  {
   "cell_type": "code",
   "execution_count": null,
   "metadata": {
    "execution": {
     "iopub.execute_input": "2023-06-18T06:30:30.064078Z",
     "iopub.status.busy": "2023-06-18T06:30:30.063613Z",
     "iopub.status.idle": "2023-06-18T06:30:30.06938Z",
     "shell.execute_reply": "2023-06-18T06:30:30.06823Z",
     "shell.execute_reply.started": "2023-06-18T06:30:30.064Z"
    }
   },
   "outputs": [],
   "source": [
    "scaler1=MinMaxScaler()\n",
    "scaler2=MinMaxScaler()\n",
    "scaler3=MinMaxScaler()"
   ]
  },
  {
   "cell_type": "code",
   "execution_count": null,
   "metadata": {
    "execution": {
     "iopub.execute_input": "2023-06-18T06:30:33.237053Z",
     "iopub.status.busy": "2023-06-18T06:30:33.236043Z",
     "iopub.status.idle": "2023-06-18T06:30:33.270753Z",
     "shell.execute_reply": "2023-06-18T06:30:33.26979Z",
     "shell.execute_reply.started": "2023-06-18T06:30:33.236951Z"
    }
   },
   "outputs": [],
   "source": [
    "X1_train=scaler1.fit_transform(X1_train)\n",
    "X1_test=scaler1.transform(X1_test)\n",
    "X2_train=scaler2.fit_transform(X2_train)\n",
    "X2_test=scaler2.transform(X2_test)\n",
    "X3_train=scaler3.fit_transform(X3_train)\n",
    "X3_test=scaler3.transform(X3_test)"
   ]
  },
  {
   "cell_type": "markdown",
   "metadata": {},
   "source": [
    "# Model 1: Logistic Regression"
   ]
  },
  {
   "cell_type": "markdown",
   "metadata": {},
   "source": [
    "$$\n",
    "\\text{precision} = \\frac{TP}{TP + FP}\n",
    "$$\n",
    "\n",
    "$$\n",
    "\\text{recall} = \\frac{TP}{TP + FN}\n",
    "$$\n",
    "\n",
    "$$\n",
    "\\text{F1-measure} = \\frac{2 * \\text{precision} * \\text{recall}}{\\text{precision} + \\text{recall}} = \\frac{2 * TP}{2 * TP + FP + FN}\n",
    "$$\n",
    " "
   ]
  },
  {
   "cell_type": "code",
   "execution_count": null,
   "metadata": {
    "execution": {
     "iopub.execute_input": "2023-06-18T06:30:36.156647Z",
     "iopub.status.busy": "2023-06-18T06:30:36.156017Z",
     "iopub.status.idle": "2023-06-18T06:30:36.383139Z",
     "shell.execute_reply": "2023-06-18T06:30:36.381813Z",
     "shell.execute_reply.started": "2023-06-18T06:30:36.156591Z"
    }
   },
   "outputs": [],
   "source": [
    "lr1=LogisticRegression(max_iter=10000)\n",
    "lr1.fit(X1_train,y_train)\n",
    "result_lr1=lr1.predict(X1_test)\n",
    "print(confusion_matrix(y_test,result_lr1))\n",
    "print(\"\\n\")\n",
    "print(classification_report(y_test,result_lr1))"
   ]
  },
  {
   "cell_type": "code",
   "execution_count": null,
   "metadata": {},
   "outputs": [],
   "source": [
    "lr2=LogisticRegression(max_iter=10000)\n",
    "lr2.fit(X2_train,y_train)\n",
    "result_lr2=lr2.predict(X2_test)\n",
    "print(confusion_matrix(y_test,result_lr2))\n",
    "print(\"\\n\")\n",
    "print(classification_report(y_test,result_lr2))"
   ]
  },
  {
   "cell_type": "code",
   "execution_count": null,
   "metadata": {},
   "outputs": [],
   "source": [
    "lr3=LogisticRegression(max_iter=10000)\n",
    "lr3.fit(X3_train,y_train)\n",
    "result_lr3=lr3.predict(X3_test)\n",
    "print(confusion_matrix(y_test,result_lr3))\n",
    "print(\"\\n\")\n",
    "print(classification_report(y_test,result_lr3))"
   ]
  },
  {
   "cell_type": "markdown",
   "metadata": {},
   "source": [
    "# Model 2: LDA"
   ]
  },
  {
   "cell_type": "code",
   "execution_count": null,
   "metadata": {},
   "outputs": [],
   "source": [
    "lda1=LinearDiscriminantAnalysis()\n",
    "lda1.fit_transform(X1_train,y_train)\n",
    "result_lda1=lda1.predict(X1_test)\n",
    "print(confusion_matrix(y_test,result_lda1))\n",
    "print(\"\\n\")\n",
    "print(classification_report(y_test,result_lda1))"
   ]
  },
  {
   "cell_type": "code",
   "execution_count": null,
   "metadata": {},
   "outputs": [],
   "source": [
    "lda2=LinearDiscriminantAnalysis()\n",
    "lda2.fit_transform(X2_train,y_train)\n",
    "result_lda2=lda2.predict(X2_test)\n",
    "print(confusion_matrix(y_test,result_lda2))\n",
    "print(\"\\n\")\n",
    "print(classification_report(y_test,result_lda2))"
   ]
  },
  {
   "cell_type": "code",
   "execution_count": null,
   "metadata": {},
   "outputs": [],
   "source": [
    "lda3=LinearDiscriminantAnalysis()\n",
    "lda3.fit_transform(X3_train,y_train)\n",
    "result_lda3=lda3.predict(X3_test)\n",
    "print(confusion_matrix(y_test,result_lda3))\n",
    "print(\"\\n\")\n",
    "print(classification_report(y_test,result_lda3))"
   ]
  },
  {
   "cell_type": "markdown",
   "metadata": {},
   "source": [
    "# Model 3: Random Forest"
   ]
  },
  {
   "cell_type": "code",
   "execution_count": null,
   "metadata": {},
   "outputs": [],
   "source": [
    "rf1=RandomForestClassifier(n_estimators=300)\n",
    "rf1.fit(X1_train,y_train)\n",
    "result_rf1=rf1.predict(X1_test)\n",
    "print(confusion_matrix(y_test,result_rf1))\n",
    "print(\"\\n\")\n",
    "print(classification_report(y_test,result_rf1))"
   ]
  },
  {
   "cell_type": "code",
   "execution_count": null,
   "metadata": {},
   "outputs": [],
   "source": [
    "rf2=RandomForestClassifier(n_estimators=300)\n",
    "rf2.fit(X2_train,y_train)\n",
    "result_rf2=rf2.predict(X2_test)\n",
    "print(confusion_matrix(y_test,result_rf2))\n",
    "print(\"\\n\")\n",
    "print(classification_report(y_test,result_rf2))"
   ]
  },
  {
   "cell_type": "code",
   "execution_count": null,
   "metadata": {},
   "outputs": [],
   "source": [
    "rf3=RandomForestClassifier(n_estimators=300)\n",
    "rf3.fit(X3_train,y_train)\n",
    "result_rf3=rf3.predict(X3_test)\n",
    "print(confusion_matrix(y_test,result_rf3))\n",
    "print(\"\\n\")\n",
    "print(classification_report(y_test,result_rf3))"
   ]
  },
  {
   "cell_type": "markdown",
   "metadata": {},
   "source": [
    "# Model 4: Neural Network Classifier"
   ]
  },
  {
   "cell_type": "code",
   "execution_count": null,
   "metadata": {},
   "outputs": [],
   "source": [
    "model1=Sequential()\n",
    "\n",
    "model1.add(Dense(6, activation=\"relu\"))\n",
    "model1.add(Dropout(0.5))\n",
    "model1.add(Dense(3, activation=\"relu\"))\n",
    "model1.add(Dense(1, activation=\"sigmoid\"))\n",
    "\n",
    "model1.compile(loss=\"binary_crossentropy\", optimizer=\"adam\")"
   ]
  },
  {
   "cell_type": "code",
   "execution_count": null,
   "metadata": {},
   "outputs": [],
   "source": [
    "model2=Sequential()\n",
    "\n",
    "model2.add(Dense(5, activation=\"relu\"))\n",
    "model2.add(Dropout(0.5))\n",
    "model2.add(Dense(3, activation=\"relu\"))\n",
    "model2.add(Dense(1, activation=\"sigmoid\"))\n",
    "\n",
    "model2.compile(loss=\"binary_crossentropy\", optimizer=\"adam\")"
   ]
  },
  {
   "cell_type": "code",
   "execution_count": null,
   "metadata": {},
   "outputs": [],
   "source": [
    "model3=Sequential()\n",
    "\n",
    "model3.add(Dense(5, activation=\"relu\"))\n",
    "model3.add(Dropout(0.5))\n",
    "model3.add(Dense(3, activation=\"relu\"))\n",
    "model3.add(Dense(1, activation=\"sigmoid\"))\n",
    "\n",
    "model3.compile(loss=\"binary_crossentropy\", optimizer=\"adam\")"
   ]
  },
  {
   "cell_type": "code",
   "execution_count": null,
   "metadata": {},
   "outputs": [],
   "source": [
    "#For the neural network training, the outputs needed to be codified, and in order to avoid the ordinalization\n",
    "#of the classes I chose to classify the distintion cases toghether with thw pass cases\n",
    "def categories(cat):\n",
    "    if cat==\"Fail\":\n",
    "        return 0\n",
    "    if cat==\"Pass\":\n",
    "        return 1\n",
    "    if cat==\"Distinction\":\n",
    "        return 1\n",
    "    \n",
    "y_test=list(map(categories,y_test))\n",
    "y_train=list(map(categories,y_train))"
   ]
  },
  {
   "cell_type": "code",
   "execution_count": null,
   "metadata": {},
   "outputs": [],
   "source": [
    "y_train=np.asarray(y_train)\n",
    "y_test=np.asarray(y_test)\n",
    "early_stop=EarlyStopping(monitor=\"val_loss\", mode=\"min\", verbose=1, patience=25)"
   ]
  },
  {
   "cell_type": "code",
   "execution_count": null,
   "metadata": {},
   "outputs": [],
   "source": [
    "model1.fit(x=X1_train, y=y_train, epochs=2000, validation_data=(X1_test,y_test),callbacks=[early_stop])"
   ]
  },
  {
   "cell_type": "code",
   "execution_count": null,
   "metadata": {},
   "outputs": [],
   "source": [
    "losses=pd.DataFrame(model1.history.history)\n",
    "losses.plot()"
   ]
  },
  {
   "cell_type": "code",
   "execution_count": null,
   "metadata": {},
   "outputs": [],
   "source": [
    "predictions=model1.predict_classes(X1_test)\n",
    "print(confusion_matrix(y_test,predictions))\n",
    "print(classification_report(y_test,predictions))"
   ]
  },
  {
   "cell_type": "code",
   "execution_count": null,
   "metadata": {},
   "outputs": [],
   "source": [
    "model2.fit(x=X2_train, y=y_train, epochs=2000, validation_data=(X2_test,y_test),callbacks=[early_stop])"
   ]
  },
  {
   "cell_type": "code",
   "execution_count": null,
   "metadata": {},
   "outputs": [],
   "source": [
    "losses=pd.DataFrame(model2.history.history)\n",
    "losses.plot()"
   ]
  },
  {
   "cell_type": "code",
   "execution_count": null,
   "metadata": {},
   "outputs": [],
   "source": [
    "predictions=model2.predict_classes(X2_test)\n",
    "print(confusion_matrix(y_test,predictions))\n",
    "print(classification_report(y_test,predictions))"
   ]
  },
  {
   "cell_type": "code",
   "execution_count": null,
   "metadata": {},
   "outputs": [],
   "source": [
    "model3.fit(x=X3_train, y=y_train, epochs=2000, validation_data=(X3_test,y_test),callbacks=[early_stop])"
   ]
  },
  {
   "cell_type": "code",
   "execution_count": null,
   "metadata": {},
   "outputs": [],
   "source": [
    "losses=pd.DataFrame(model3.history.history)\n",
    "losses.plot()"
   ]
  },
  {
   "cell_type": "code",
   "execution_count": null,
   "metadata": {},
   "outputs": [],
   "source": [
    "predictions=model3.predict_classes(X3_test)\n",
    "print(confusion_matrix(y_test,predictions))\n",
    "print(classification_report(y_test,predictions))"
   ]
  },
  {
   "cell_type": "markdown",
   "metadata": {},
   "source": [
    "# We have sucessfully developed models for the prediction of the student performance, but how can we choose one?\n",
    "\n",
    "* First of all, the models in which both *weighted_grade* and *pass_rate* were included overall performed better than their omitted counterparts, suggesting that our hypotheses was wrong\n",
    "\n",
    "* The neural network classifiers had difficulties predicting the cases of failure, but overall had a better performance tha the other models, probably due to the removal of one class.\n",
    "\n",
    "* The other models could be used in headhunting programs, developed to select students who are very likely to graduate with distinction and offering them scholarships, jobs, etc.\n",
    "\n",
    "* Altough I created a lot of features I wonder how many other features could be created for this problem and how would they improve model performance. If you are curious too, fork this notebook and give it a try too!\n",
    "\n",
    "Thanks for reading my kernel and keep learning!"
   ]
  },
  {
   "cell_type": "code",
   "execution_count": null,
   "metadata": {},
   "outputs": [],
   "source": []
  }
 ],
 "metadata": {
  "kaggle": {
   "accelerator": "none",
   "dataSources": [
    {
     "datasetId": 70176,
     "sourceId": 145615,
     "sourceType": "datasetVersion"
    }
   ],
   "dockerImageVersionId": 30035,
   "isGpuEnabled": false,
   "isInternetEnabled": false,
   "language": "python",
   "sourceType": "notebook"
  },
  "kernelspec": {
   "display_name": "Python 3 (ipykernel)",
   "language": "python",
   "name": "python3"
  },
  "language_info": {
   "codemirror_mode": {
    "name": "ipython",
    "version": 3
   },
   "file_extension": ".py",
   "mimetype": "text/x-python",
   "name": "python",
   "nbconvert_exporter": "python",
   "pygments_lexer": "ipython3",
   "version": "3.12.7"
  }
 },
 "nbformat": 4,
 "nbformat_minor": 4
}
