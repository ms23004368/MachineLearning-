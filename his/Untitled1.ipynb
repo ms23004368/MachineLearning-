{
 "cells": [
  {
   "cell_type": "code",
   "execution_count": 2,
   "id": "34805838-3923-4d99-a086-3d53e58894b0",
   "metadata": {},
   "outputs": [
    {
     "name": "stdout",
     "output_type": "stream",
     "text": [
      "Courses columns: Index(['code_module', 'code_presentation', 'module_presentation_length'], dtype='object')\n",
      "Assessments columns: Index(['code_module', 'code_presentation', 'id_assessment', 'assessment_type',\n",
      "       'date', 'weight'],\n",
      "      dtype='object')\n",
      "Student Info columns: Index(['code_module', 'code_presentation', 'id_student', 'gender', 'region',\n",
      "       'highest_education', 'imd_band', 'age_band', 'num_of_prev_attempts',\n",
      "       'studied_credits', 'disability', 'final_result'],\n",
      "      dtype='object')\n",
      "Student Assessments columns: Index(['id_assessment', 'id_student', 'date_submitted', 'is_banked', 'score'], dtype='object')\n",
      "Student VLE columns: Index(['code_module', 'code_presentation', 'id_student', 'id_site', 'date',\n",
      "       'sum_click'],\n",
      "      dtype='object')\n",
      "Student Registration columns: Index(['code_module', 'code_presentation', 'id_student', 'date_registration',\n",
      "       'date_unregistration'],\n",
      "      dtype='object')\n",
      "VLE columns: Index(['id_site', 'code_module', 'code_presentation', 'activity_type',\n",
      "       'week_from', 'week_to'],\n",
      "      dtype='object')\n"
     ]
    }
   ],
   "source": [
    "import pandas as pd\n",
    "\n",
    "# Load CSV files\n",
    "courses = pd.read_csv('courses.csv')\n",
    "assessments = pd.read_csv('assessments.csv')\n",
    "student_info = pd.read_csv('studentInfo.csv')\n",
    "student_assessments = pd.read_csv('studentAssessment.csv')\n",
    "student_vle = pd.read_csv('studentVle.csv')\n",
    "student_registration = pd.read_csv('studentRegistration.csv')\n",
    "vle = pd.read_csv('vle.csv')\n",
    "\n",
    "# Check column names to ensure they match the merge keys\n",
    "print(\"Courses columns:\", courses.columns)\n",
    "print(\"Assessments columns:\", assessments.columns)\n",
    "print(\"Student Info columns:\", student_info.columns)\n",
    "print(\"Student Assessments columns:\", student_assessments.columns)\n",
    "print(\"Student VLE columns:\", student_vle.columns)\n",
    "print(\"Student Registration columns:\", student_registration.columns)\n",
    "print(\"VLE columns:\", vle.columns)\n"
   ]
  },
  {
   "cell_type": "code",
   "execution_count": null,
   "id": "b7862ea4-8f77-40ac-bcdf-54b138d63441",
   "metadata": {},
   "outputs": [],
   "source": [
    "import pandas as pd\n",
    "\n",
    "# Load CSV files\n",
    "courses = pd.read_csv('courses.csv')\n",
    "assessments = pd.read_csv('assessments.csv')\n",
    "student_info = pd.read_csv('studentInfo.csv')\n",
    "student_assessments = pd.read_csv('studentAssessment.csv')\n",
    "student_vle = pd.read_csv('studentVle.csv')\n",
    "student_registration = pd.read_csv('studentRegistration.csv')\n",
    "vle = pd.read_csv('vle.csv')\n",
    "\n",
    "# Merge datasets\n",
    "# Start by merging student_info with student_registration\n",
    "merged_data = pd.merge(student_info, student_registration, on=['code_module', 'code_presentation', 'id_student'], how='left')\n",
    "\n",
    "# Merge with student_assessments based on id_student and id_assessment\n",
    "merged_data = pd.merge(merged_data, student_assessments, on=['id_student'], how='left')\n",
    "\n",
    "# Merge with courses based on code_module and code_presentation\n",
    "merged_data = pd.merge(merged_data, courses, on=['code_module', 'code_presentation'], how='left')\n",
    "\n",
    "# Merge with assessments based on code_module, code_presentation, and id_assessment\n",
    "merged_data = pd.merge(merged_data, assessments, on=['code_module', 'code_presentation', 'id_assessment'], how='left')\n",
    "\n",
    "# Merge with vle based on code_module and code_presentation\n",
    "merged_data = pd.merge(merged_data, vle, on=['code_module', 'code_presentation'], how='left')\n",
    "\n",
    "# Merge with student_vle based on code_module, code_presentation, and id_student\n",
    "merged_data = pd.merge(merged_data, student_vle, on=['code_module', 'code_presentation', 'id_student'], how='left')\n",
    "\n",
    "# Preview the merged dataset\n",
    "print(merged_data.head())\n",
    "\n",
    "# Save the merged dataset for future use\n",
    "merged_data.to_csv('merged_data.csv', index=False)\n"
   ]
  }
 ],
 "metadata": {
  "kernelspec": {
   "display_name": "Python 3 (ipykernel)",
   "language": "python",
   "name": "python3"
  },
  "language_info": {
   "codemirror_mode": {
    "name": "ipython",
    "version": 3
   },
   "file_extension": ".py",
   "mimetype": "text/x-python",
   "name": "python",
   "nbconvert_exporter": "python",
   "pygments_lexer": "ipython3",
   "version": "3.9.13"
  }
 },
 "nbformat": 4,
 "nbformat_minor": 5
}
